{
 "cells": [
  {
   "cell_type": "markdown",
   "id": "dc0fe917",
   "metadata": {},
   "source": [
    "# Python 19/10/2023 DailyTask"
   ]
  },
  {
   "cell_type": "markdown",
   "id": "e0d6f18d",
   "metadata": {},
   "source": [
    "### 1. Mandatory Task\n"
   ]
  },
  {
   "cell_type": "markdown",
   "id": "c878caae",
   "metadata": {},
   "source": [
    "a) Document today’s class with proper explanation using markdown, comments, examples and code.\n",
    "\n",
    "b) Use help() to understand each parameter of all the string methods that were covered in class so far. Document the same with different examples with proper explanation of what the method does and its parameters."
   ]
  },
  {
   "cell_type": "markdown",
   "id": "958409e7",
   "metadata": {},
   "source": [
    "# String Methods"
   ]
  },
  {
   "cell_type": "markdown",
   "id": "2c87d6e7",
   "metadata": {},
   "source": [
    "### find()"
   ]
  },
  {
   "cell_type": "markdown",
   "id": "1267db5c",
   "metadata": {},
   "source": [
    "* The find() method finds the first occurrence of the specified value.\n",
    "\n",
    "* The find() method returns -1 if the value is not found.\n",
    "\n",
    "* The find() method is almost the same as the index() method, the only difference is that the index() method raises an exception if the value is not found."
   ]
  },
  {
   "cell_type": "markdown",
   "id": "5a67e432",
   "metadata": {},
   "source": [
    "* Syntax: \n",
    "    * str.find(sub, start, end)\n",
    "\n",
    "* Parameters: \n",
    "\n",
    "    * sub: Substring that needs to be searched in the given string. \n",
    "    * start (optional): Starting position where the substring needs to be checked within the string. \n",
    "    * end (optional): End position is the index of the last value for the specified range. It is excluded while checking.\n",
    "    \n",
    "* Return:\n",
    "\n",
    "    * Returns the lowest index of the substring if it is found in a given string. If it’s not found then it returns -1."
   ]
  },
  {
   "cell_type": "code",
   "execution_count": 1,
   "id": "b27f86b1",
   "metadata": {},
   "outputs": [
    {
     "name": "stdout",
     "output_type": "stream",
     "text": [
      "Help on method_descriptor:\n",
      "\n",
      "find(...)\n",
      "    S.find(sub[, start[, end]]) -> int\n",
      "    \n",
      "    Return the lowest index in S where substring sub is found,\n",
      "    such that sub is contained within S[start:end].  Optional\n",
      "    arguments start and end are interpreted as in slice notation.\n",
      "    \n",
      "    Return -1 on failure.\n",
      "\n"
     ]
    }
   ],
   "source": [
    "help(str.find)"
   ]
  },
  {
   "cell_type": "code",
   "execution_count": 2,
   "id": "e71d0d1a",
   "metadata": {},
   "outputs": [],
   "source": [
    "x = '''Betty Botter bought some butter\n",
    "But she said the butter’s bitter\n",
    "If I put it in my batter, it will make my batter bitter\n",
    "But a bit of better butter will make my batter better\n",
    "So ‘twas better Betty Botter bought a bit of better butter'''"
   ]
  },
  {
   "cell_type": "code",
   "execution_count": 3,
   "id": "2b2cf338",
   "metadata": {},
   "outputs": [
    {
     "name": "stdout",
     "output_type": "stream",
     "text": [
      "Betty Botter bought some butter\n",
      "But she said the butter’s bitter\n",
      "If I put it in my batter, it will make my batter bitter\n",
      "But a bit of better butter will make my batter better\n",
      "So ‘twas better Betty Botter bought a bit of better butter\n"
     ]
    }
   ],
   "source": [
    "print(x)"
   ]
  },
  {
   "cell_type": "code",
   "execution_count": 4,
   "id": "c44454c4",
   "metadata": {},
   "outputs": [
    {
     "name": "stdout",
     "output_type": "stream",
     "text": [
      "25\n"
     ]
    }
   ],
   "source": [
    "print(x.find('butter'))"
   ]
  },
  {
   "cell_type": "code",
   "execution_count": 5,
   "id": "60ce85d0",
   "metadata": {},
   "outputs": [
    {
     "name": "stdout",
     "output_type": "stream",
     "text": [
      "49\n"
     ]
    }
   ],
   "source": [
    "print(x.find('butter',26))"
   ]
  },
  {
   "cell_type": "code",
   "execution_count": 6,
   "id": "c90ad567",
   "metadata": {},
   "outputs": [
    {
     "name": "stdout",
     "output_type": "stream",
     "text": [
      "-1\n"
     ]
    }
   ],
   "source": [
    "print(x.find('butter',26,47))"
   ]
  },
  {
   "cell_type": "markdown",
   "id": "eb478f6e",
   "metadata": {},
   "source": [
    "### rfind()"
   ]
  },
  {
   "cell_type": "markdown",
   "id": "c26d654d",
   "metadata": {},
   "source": [
    "* The rfind() method finds the last occurrence of the specified value.\n",
    "\n",
    "* The rfind() method returns -1 if the value is not found.\n",
    "\n",
    "* The rfind() method is almost the same as the rindex() method."
   ]
  },
  {
   "cell_type": "markdown",
   "id": "1f91f6fb",
   "metadata": {},
   "source": [
    "* Syntax: \n",
    "    * str.rfind(sub, start, end)\n",
    "\n",
    "* Parameters: \n",
    "\n",
    "    * sub: It’s the substring that needs to be searched in the given string. \n",
    "    * start: Starting position where the sub needs to be checked within the string. \n",
    "    * end: Ending position where suffix needs to be checked within the string."
   ]
  },
  {
   "cell_type": "code",
   "execution_count": 7,
   "id": "d4226e96",
   "metadata": {},
   "outputs": [
    {
     "name": "stdout",
     "output_type": "stream",
     "text": [
      "Help on method_descriptor:\n",
      "\n",
      "rfind(...)\n",
      "    S.rfind(sub[, start[, end]]) -> int\n",
      "    \n",
      "    Return the highest index in S where substring sub is found,\n",
      "    such that sub is contained within S[start:end].  Optional\n",
      "    arguments start and end are interpreted as in slice notation.\n",
      "    \n",
      "    Return -1 on failure.\n",
      "\n"
     ]
    }
   ],
   "source": [
    "help(str.rfind)"
   ]
  },
  {
   "cell_type": "code",
   "execution_count": 8,
   "id": "30134053",
   "metadata": {},
   "outputs": [
    {
     "name": "stdout",
     "output_type": "stream",
     "text": [
      "227\n"
     ]
    }
   ],
   "source": [
    "print(x.rfind('butter'))"
   ]
  },
  {
   "cell_type": "code",
   "execution_count": 9,
   "id": "245d8d1e",
   "metadata": {},
   "outputs": [
    {
     "name": "stdout",
     "output_type": "stream",
     "text": [
      "4\n"
     ]
    }
   ],
   "source": [
    "y = 'Kangaroo'\n",
    "print(y.rfind('a'))"
   ]
  },
  {
   "cell_type": "code",
   "execution_count": 10,
   "id": "1b5379d0",
   "metadata": {},
   "outputs": [
    {
     "name": "stdout",
     "output_type": "stream",
     "text": [
      "1\n"
     ]
    }
   ],
   "source": [
    "print(y.rfind('a',0,3))"
   ]
  },
  {
   "cell_type": "markdown",
   "id": "e88276d7",
   "metadata": {},
   "source": [
    "### count()"
   ]
  },
  {
   "cell_type": "markdown",
   "id": "c8de8f07",
   "metadata": {},
   "source": [
    "* The count() method returns the number of times a specified value appears in the string."
   ]
  },
  {
   "cell_type": "markdown",
   "id": "7bfa9e35",
   "metadata": {},
   "source": [
    "* Syntax: \n",
    "    * string.Count(substring, start= …., end= ….)\n",
    "\n",
    "* Parameters: \n",
    "\n",
    "\n",
    "    * substring – string whose count is to be found.\n",
    "\n",
    "    * start (Optional) – starting index within the string where the search starts. \n",
    "    * end (Optional) – ending index within the string where the search ends.\n",
    "* Return Value: \n",
    "    * count() method returns an integer that denotes the number of times a substring occurs in a given string."
   ]
  },
  {
   "cell_type": "code",
   "execution_count": 11,
   "id": "a7b26f09",
   "metadata": {
    "scrolled": true
   },
   "outputs": [
    {
     "name": "stdout",
     "output_type": "stream",
     "text": [
      "Help on method_descriptor:\n",
      "\n",
      "count(...)\n",
      "    S.count(sub[, start[, end]]) -> int\n",
      "    \n",
      "    Return the number of non-overlapping occurrences of substring sub in\n",
      "    string S[start:end].  Optional arguments start and end are\n",
      "    interpreted as in slice notation.\n",
      "\n"
     ]
    }
   ],
   "source": [
    "help(str.count)"
   ]
  },
  {
   "cell_type": "code",
   "execution_count": 12,
   "id": "97bd9ebc",
   "metadata": {},
   "outputs": [],
   "source": [
    "x = '''Betty Botter bought some butter\n",
    "But she said the butter’s bitter\n",
    "If I put it in my batter, it will make my batter bitter\n",
    "But a bit of better butter will make my batter better\n",
    "So ‘twas better Betty Botter bought a bit of better butter'''"
   ]
  },
  {
   "cell_type": "code",
   "execution_count": 13,
   "id": "8626dca2",
   "metadata": {},
   "outputs": [
    {
     "name": "stdout",
     "output_type": "stream",
     "text": [
      "4\n"
     ]
    }
   ],
   "source": [
    "print(x.count('butter'))"
   ]
  },
  {
   "cell_type": "code",
   "execution_count": 14,
   "id": "88ae3947",
   "metadata": {},
   "outputs": [
    {
     "name": "stdout",
     "output_type": "stream",
     "text": [
      "2\n"
     ]
    }
   ],
   "source": [
    "print(x.count('bitter'))"
   ]
  },
  {
   "cell_type": "markdown",
   "id": "1a02b2f9",
   "metadata": {},
   "source": [
    "### index()"
   ]
  },
  {
   "cell_type": "markdown",
   "id": "4b8abf7b",
   "metadata": {},
   "source": [
    "* The index() method finds the first occurrence of the specified value.\n",
    "\n",
    "* The index() method raises an exception if the value is not found.\n",
    "\n",
    "* The index() method is almost the same as the find() method, the only difference is that the find() method returns -1 if the value is not found."
   ]
  },
  {
   "cell_type": "markdown",
   "id": "360e6483",
   "metadata": {},
   "source": [
    "* Syntax:  \n",
    "    * string_obj.index(substring, start, end)\n",
    "\n",
    "* Parameters: \n",
    "\n",
    "    * substring: The string to be searched for.\n",
    "    * start (default : 0) : This function specifies the position from where the search has to be started. \n",
    "    * end (default: length of string): This function specifies the position from where the search has to end.\n",
    "* Return:\n",
    "    * Returns the first position of the substring found."
   ]
  },
  {
   "cell_type": "code",
   "execution_count": 15,
   "id": "1b8acc1c",
   "metadata": {},
   "outputs": [
    {
     "name": "stdout",
     "output_type": "stream",
     "text": [
      "Help on method_descriptor:\n",
      "\n",
      "index(...)\n",
      "    S.index(sub[, start[, end]]) -> int\n",
      "    \n",
      "    Return the lowest index in S where substring sub is found,\n",
      "    such that sub is contained within S[start:end].  Optional\n",
      "    arguments start and end are interpreted as in slice notation.\n",
      "    \n",
      "    Raises ValueError when the substring is not found.\n",
      "\n"
     ]
    }
   ],
   "source": [
    "help(str.index)"
   ]
  },
  {
   "cell_type": "code",
   "execution_count": 16,
   "id": "b83922ba",
   "metadata": {},
   "outputs": [
    {
     "name": "stdout",
     "output_type": "stream",
     "text": [
      "1\n"
     ]
    }
   ],
   "source": [
    "y = 'Kangaroo'\n",
    "\n",
    "print(y.index('a'))"
   ]
  },
  {
   "cell_type": "code",
   "execution_count": 17,
   "id": "2f8ce080",
   "metadata": {},
   "outputs": [
    {
     "name": "stdout",
     "output_type": "stream",
     "text": [
      "1 1\n"
     ]
    }
   ],
   "source": [
    "print(y.find('a'), y.index('a'))"
   ]
  },
  {
   "cell_type": "code",
   "execution_count": 18,
   "id": "cd06d7f1",
   "metadata": {},
   "outputs": [],
   "source": [
    "# print(y.find('z'), y.index('z'))  # uncomment to see the error"
   ]
  },
  {
   "cell_type": "markdown",
   "id": "636408ae",
   "metadata": {},
   "source": [
    "### rindex()"
   ]
  },
  {
   "cell_type": "markdown",
   "id": "33a55b87",
   "metadata": {},
   "source": [
    "* The rindex() method finds the last occurrence of the specified value.\n",
    "\n",
    "* The rindex() method raises an exception if the value is not found.\n",
    "\n"
   ]
  },
  {
   "cell_type": "markdown",
   "id": "50818ec9",
   "metadata": {},
   "source": [
    "* Syntax:  \n",
    "    * str.rindex(sub, start, end)\n",
    "\n",
    "* Parameters: \n",
    "\n",
    "    * sub : It’s the substring which needs to be searched in the given string.\n",
    "    * start : Starting position where sub is needs to be checked within the string.\n",
    "    * end : Ending position where suffix is needs to be checked within the string.\n",
    "* Return:\n",
    "    * Returns the highest index of the substring inside the string if substring is found. Otherwise it raises an exception."
   ]
  },
  {
   "cell_type": "code",
   "execution_count": 19,
   "id": "4225e213",
   "metadata": {},
   "outputs": [
    {
     "name": "stdout",
     "output_type": "stream",
     "text": [
      "Help on method_descriptor:\n",
      "\n",
      "rindex(...)\n",
      "    S.rindex(sub[, start[, end]]) -> int\n",
      "    \n",
      "    Return the highest index in S where substring sub is found,\n",
      "    such that sub is contained within S[start:end].  Optional\n",
      "    arguments start and end are interpreted as in slice notation.\n",
      "    \n",
      "    Raises ValueError when the substring is not found.\n",
      "\n"
     ]
    }
   ],
   "source": [
    "help(str.rindex)"
   ]
  },
  {
   "cell_type": "code",
   "execution_count": 20,
   "id": "8e421a14",
   "metadata": {},
   "outputs": [
    {
     "name": "stdout",
     "output_type": "stream",
     "text": [
      "4\n"
     ]
    }
   ],
   "source": [
    "y = 'Kangaroo'\n",
    "\n",
    "print(y.rindex('a'))"
   ]
  },
  {
   "cell_type": "code",
   "execution_count": 21,
   "id": "aa7982f1",
   "metadata": {},
   "outputs": [],
   "source": [
    "# print(y.rindex('z'))  # uncomment to see the error"
   ]
  },
  {
   "cell_type": "markdown",
   "id": "008344ce",
   "metadata": {},
   "source": [
    "### replace()"
   ]
  },
  {
   "cell_type": "markdown",
   "id": "97ed9975",
   "metadata": {},
   "source": [
    "* The replace() method replaces a specified phrase with another specified phrase."
   ]
  },
  {
   "cell_type": "markdown",
   "id": "c2c11afc",
   "metadata": {},
   "source": [
    "* Syntax: \n",
    "    * string.replace(old, new, count)\n",
    "\n",
    "* Parameters:\n",
    "    * old – old substring you want to replace.\n",
    "    * new – new substring which would replace the old substring.\n",
    "    * count – (Optional ) the number of times you want to replace the old substring with the new substring. \n",
    "* Return Value : \n",
    "    * It returns a copy of the string where all occurrences of a substring are replaced with another substring. "
   ]
  },
  {
   "cell_type": "code",
   "execution_count": 22,
   "id": "3dbcf3a2",
   "metadata": {},
   "outputs": [
    {
     "name": "stdout",
     "output_type": "stream",
     "text": [
      "Help on method_descriptor:\n",
      "\n",
      "replace(self, old, new, count=-1, /)\n",
      "    Return a copy with all occurrences of substring old replaced by new.\n",
      "    \n",
      "      count\n",
      "        Maximum number of occurrences to replace.\n",
      "        -1 (the default value) means replace all occurrences.\n",
      "    \n",
      "    If the optional argument count is given, only the first count occurrences are\n",
      "    replaced.\n",
      "\n"
     ]
    }
   ],
   "source": [
    "help(str.replace)"
   ]
  },
  {
   "cell_type": "code",
   "execution_count": 23,
   "id": "dbda9098",
   "metadata": {},
   "outputs": [
    {
     "name": "stdout",
     "output_type": "stream",
     "text": [
      "kangaroo\n"
     ]
    }
   ],
   "source": [
    "y = 'Kangaroo'\n",
    "\n",
    "print(y.replace('K','k'))"
   ]
  },
  {
   "cell_type": "code",
   "execution_count": 24,
   "id": "ba1b145b",
   "metadata": {},
   "outputs": [
    {
     "name": "stdout",
     "output_type": "stream",
     "text": [
      "KanGaroo\n"
     ]
    }
   ],
   "source": [
    "y = 'Kangaroo'\n",
    "\n",
    "print(y.replace('g','G'))"
   ]
  },
  {
   "cell_type": "code",
   "execution_count": 25,
   "id": "6956844b",
   "metadata": {},
   "outputs": [
    {
     "name": "stdout",
     "output_type": "stream",
     "text": [
      "KAngAroo\n"
     ]
    }
   ],
   "source": [
    "y = 'Kangaroo'\n",
    "\n",
    "print(y.replace('a','A',3))"
   ]
  },
  {
   "cell_type": "markdown",
   "id": "1454a0a5",
   "metadata": {},
   "source": [
    "### split()"
   ]
  },
  {
   "cell_type": "markdown",
   "id": "c3fec7dc",
   "metadata": {},
   "source": [
    "* The split() method splits a string into a list."
   ]
  },
  {
   "cell_type": "markdown",
   "id": "1a7ab267",
   "metadata": {},
   "source": [
    "* Syntax : \n",
    "    * str.split(separator, maxsplit)\n",
    "\n",
    "* Parameters :\n",
    "\n",
    "    * separator: This is a delimiter. The string splits at this specified separator. If is not provided then any white space is a separator.\n",
    "    * maxsplit: It is a number, which tells us to split the string into maximum of provided number of times. If it is not provided then the default is -1 that means there is no limit.\n",
    "* Returns :\n",
    "    * Returns a list of strings after breaking the given string by the specified separator."
   ]
  },
  {
   "cell_type": "code",
   "execution_count": 26,
   "id": "e037ee41",
   "metadata": {},
   "outputs": [
    {
     "name": "stdout",
     "output_type": "stream",
     "text": [
      "Help on method_descriptor:\n",
      "\n",
      "split(self, /, sep=None, maxsplit=-1)\n",
      "    Return a list of the substrings in the string, using sep as the separator string.\n",
      "    \n",
      "      sep\n",
      "        The separator used to split the string.\n",
      "    \n",
      "        When set to None (the default value), will split on any whitespace\n",
      "        character (including \\\\n \\\\r \\\\t \\\\f and spaces) and will discard\n",
      "        empty strings from the result.\n",
      "      maxsplit\n",
      "        Maximum number of splits (starting from the left).\n",
      "        -1 (the default value) means no limit.\n",
      "    \n",
      "    Note, str.split() is mainly useful for data that has been intentionally\n",
      "    delimited.  With natural text that includes punctuation, consider using\n",
      "    the regular expression module.\n",
      "\n"
     ]
    }
   ],
   "source": [
    "help(str.split)"
   ]
  },
  {
   "cell_type": "code",
   "execution_count": 27,
   "id": "636f1484",
   "metadata": {},
   "outputs": [],
   "source": [
    "x = '''Betty Botter bought some butter\n",
    "But she said the butter’s bitter\n",
    "If I put it in my batter, it will make my batter bitter\n",
    "But a bit of better butter will make my batter better\n",
    "So ‘twas better Betty Botter bought a bit of better butter'''"
   ]
  },
  {
   "cell_type": "code",
   "execution_count": 28,
   "id": "2e82c360",
   "metadata": {},
   "outputs": [
    {
     "name": "stdout",
     "output_type": "stream",
     "text": [
      "['Betty', 'Botter', 'bought', 'some', 'butter', 'But', 'she', 'said', 'the', 'butter’s', 'bitter', 'If', 'I', 'put', 'it', 'in', 'my', 'batter,', 'it', 'will', 'make', 'my', 'batter', 'bitter', 'But', 'a', 'bit', 'of', 'better', 'butter', 'will', 'make', 'my', 'batter', 'better', 'So', '‘twas', 'better', 'Betty', 'Botter', 'bought', 'a', 'bit', 'of', 'better', 'butter']\n"
     ]
    }
   ],
   "source": [
    "print(x.split())"
   ]
  },
  {
   "cell_type": "code",
   "execution_count": 29,
   "id": "d89ef285",
   "metadata": {},
   "outputs": [
    {
     "name": "stdout",
     "output_type": "stream",
     "text": [
      "['Betty', 'Botter', 'bought', 'some butter\\nBut she said the butter’s bitter\\nIf I put it in my batter, it will make my batter bitter\\nBut a bit of better butter will make my batter better\\nSo ‘twas better Betty Botter bought a bit of better butter']\n"
     ]
    }
   ],
   "source": [
    "print(x.split(' ',maxsplit = 3))"
   ]
  },
  {
   "cell_type": "code",
   "execution_count": 30,
   "id": "8cb3a287",
   "metadata": {},
   "outputs": [
    {
     "name": "stdout",
     "output_type": "stream",
     "text": [
      "['what', 'is', 'your name ?']\n"
     ]
    }
   ],
   "source": [
    "a = 'what is your name ?'.split(maxsplit = 2)\n",
    "\n",
    "print(a)"
   ]
  },
  {
   "cell_type": "code",
   "execution_count": 31,
   "id": "4c48f364",
   "metadata": {},
   "outputs": [
    {
     "data": {
      "text/plain": [
       "['K', 'ng', 'roo']"
      ]
     },
     "execution_count": 31,
     "metadata": {},
     "output_type": "execute_result"
    }
   ],
   "source": [
    "y = 'Kangaroo'\n",
    "\n",
    "y.split('a')"
   ]
  },
  {
   "cell_type": "markdown",
   "id": "3a9dd698",
   "metadata": {},
   "source": [
    "### rsplit()"
   ]
  },
  {
   "cell_type": "markdown",
   "id": "79d7a968",
   "metadata": {},
   "source": [
    "* The rsplit() method splits a string into a list, starting from the right."
   ]
  },
  {
   "cell_type": "markdown",
   "id": "0cfe1038",
   "metadata": {},
   "source": [
    "* Syntax:\n",
    "    * str.rsplit(separator, maxsplit)\n",
    "\n",
    "* Parameters:\n",
    "    * separator: The is a delimiter. The string splits at this specified separator starting from the right side. If not provided then any white space character is a separator.\n",
    "    * maxsplit: It is a number, which tells us to split the string into a maximum of provided number of times. If it is not provided then there is no limit.\n",
    "* Return:\n",
    "    * Returns a list of strings after breaking the given string from the right side by the specified separator."
   ]
  },
  {
   "cell_type": "code",
   "execution_count": 32,
   "id": "52b25c5d",
   "metadata": {},
   "outputs": [
    {
     "name": "stdout",
     "output_type": "stream",
     "text": [
      "Help on method_descriptor:\n",
      "\n",
      "rsplit(self, /, sep=None, maxsplit=-1)\n",
      "    Return a list of the substrings in the string, using sep as the separator string.\n",
      "    \n",
      "      sep\n",
      "        The separator used to split the string.\n",
      "    \n",
      "        When set to None (the default value), will split on any whitespace\n",
      "        character (including \\\\n \\\\r \\\\t \\\\f and spaces) and will discard\n",
      "        empty strings from the result.\n",
      "      maxsplit\n",
      "        Maximum number of splits (starting from the left).\n",
      "        -1 (the default value) means no limit.\n",
      "    \n",
      "    Splitting starts at the end of the string and works to the front.\n",
      "\n"
     ]
    }
   ],
   "source": [
    "help(str.rsplit)"
   ]
  },
  {
   "cell_type": "code",
   "execution_count": 33,
   "id": "698793d2",
   "metadata": {},
   "outputs": [],
   "source": [
    "x = '''Betty Botter bought some butter\n",
    "But she said the butter’s bitter\n",
    "If I put it in my batter, it will make my batter bitter\n",
    "But a bit of better butter will make my batter better\n",
    "So ‘twas better Betty Botter bought a bit of better butter'''"
   ]
  },
  {
   "cell_type": "code",
   "execution_count": 34,
   "id": "2ec069b1",
   "metadata": {},
   "outputs": [
    {
     "name": "stdout",
     "output_type": "stream",
     "text": [
      "['Betty', 'Botter', 'bought', 'some', 'butter', 'But', 'she', 'said', 'the', 'butter’s', 'bitter', 'If', 'I', 'put', 'it', 'in', 'my', 'batter,', 'it', 'will', 'make', 'my', 'batter', 'bitter', 'But', 'a', 'bit', 'of', 'better', 'butter', 'will', 'make', 'my', 'batter', 'better', 'So', '‘twas', 'better', 'Betty', 'Botter', 'bought', 'a', 'bit', 'of', 'better', 'butter']\n"
     ]
    }
   ],
   "source": [
    "print(x.rsplit())"
   ]
  },
  {
   "cell_type": "code",
   "execution_count": 35,
   "id": "7f3ab1fb",
   "metadata": {},
   "outputs": [
    {
     "name": "stdout",
     "output_type": "stream",
     "text": [
      "True\n"
     ]
    }
   ],
   "source": [
    "ax = x.rsplit()\n",
    "bx = x.split()\n",
    "\n",
    "print(ax == bx)"
   ]
  },
  {
   "cell_type": "code",
   "execution_count": 36,
   "id": "db33ea23",
   "metadata": {},
   "outputs": [
    {
     "name": "stdout",
     "output_type": "stream",
     "text": [
      "['Betty Botter bought some butter\\nBut she said the butter’s bitter\\nIf I put it in my batter, it will make my batter bitter\\nBut a bit of better butter will make my batter better\\nSo ‘twas better Betty Botter bought a', 'bit', 'of', 'better', 'butter']\n"
     ]
    }
   ],
   "source": [
    "print(x.rsplit(maxsplit = 4))"
   ]
  },
  {
   "cell_type": "code",
   "execution_count": 37,
   "id": "9e5d1bf5",
   "metadata": {},
   "outputs": [
    {
     "name": "stdout",
     "output_type": "stream",
     "text": [
      "['what is your', 'name', '?']\n"
     ]
    }
   ],
   "source": [
    "a = 'what is your name ?'.rsplit(maxsplit = 2)\n",
    "\n",
    "print(a)"
   ]
  },
  {
   "cell_type": "markdown",
   "id": "e3306148",
   "metadata": {},
   "source": [
    "### partition()"
   ]
  },
  {
   "cell_type": "markdown",
   "id": "04cee5a5",
   "metadata": {},
   "source": [
    "* The partition() method searches for a specified string, and splits the string into a tuple containing three elements.\n",
    "\n",
    "    * The first element contains the part before the specified string.\n",
    "\n",
    "    * The second element contains the specified string.\n",
    "\n",
    "    * The third element contains the part after the string."
   ]
  },
  {
   "cell_type": "markdown",
   "id": "00422fa6",
   "metadata": {},
   "source": [
    "* Syntax: \n",
    "    * string.partition(separator)\n",
    "* Parameters: \n",
    "\n",
    "    * separator: a substring that separates the string\n",
    "* Return:\n",
    "    * Returns a tuple of 3 elements. The substring before the separator, the separator, the part after the separator."
   ]
  },
  {
   "cell_type": "code",
   "execution_count": 38,
   "id": "98f2b1ab",
   "metadata": {},
   "outputs": [
    {
     "name": "stdout",
     "output_type": "stream",
     "text": [
      "Help on method_descriptor:\n",
      "\n",
      "partition(self, sep, /)\n",
      "    Partition the string into three parts using the given separator.\n",
      "    \n",
      "    This will search for the separator in the string.  If the separator is found,\n",
      "    returns a 3-tuple containing the part before the separator, the separator\n",
      "    itself, and the part after it.\n",
      "    \n",
      "    If the separator is not found, returns a 3-tuple containing the original string\n",
      "    and two empty strings.\n",
      "\n"
     ]
    }
   ],
   "source": [
    "help(str.partition)"
   ]
  },
  {
   "cell_type": "code",
   "execution_count": 39,
   "id": "67a3a879",
   "metadata": {},
   "outputs": [],
   "source": [
    "x = '''Betty Botter bought some butter\n",
    "But she said the butter’s bitter\n",
    "If I put it in my batter, it will make my batter bitter\n",
    "But a bit of better butter will make my batter better\n",
    "So ‘twas better Betty Botter bought a bit of better butter'''"
   ]
  },
  {
   "cell_type": "code",
   "execution_count": 40,
   "id": "4a1f46a5",
   "metadata": {},
   "outputs": [
    {
     "name": "stdout",
     "output_type": "stream",
     "text": [
      "('Betty', ' ', 'Botter bought some butter\\nBut she said the butter’s bitter\\nIf I put it in my batter, it will make my batter bitter\\nBut a bit of better butter will make my batter better\\nSo ‘twas better Betty Botter bought a bit of better butter')\n"
     ]
    }
   ],
   "source": [
    "print(x.partition(' '))"
   ]
  },
  {
   "cell_type": "code",
   "execution_count": 41,
   "id": "2e6cbaff",
   "metadata": {},
   "outputs": [
    {
     "name": "stdout",
     "output_type": "stream",
     "text": [
      "('what', ' ', 'is your name ?')\n"
     ]
    }
   ],
   "source": [
    "a = 'what is your name ?'.partition(' ')\n",
    "\n",
    "print(a)"
   ]
  },
  {
   "cell_type": "code",
   "execution_count": 42,
   "id": "01d9155b",
   "metadata": {},
   "outputs": [
    {
     "name": "stdout",
     "output_type": "stream",
     "text": [
      "('K', 'a', 'ngaroo')\n"
     ]
    }
   ],
   "source": [
    "y = 'Kangaroo'.partition('a')\n",
    "\n",
    "print(y)"
   ]
  },
  {
   "cell_type": "code",
   "execution_count": 43,
   "id": "6595478f",
   "metadata": {},
   "outputs": [
    {
     "name": "stdout",
     "output_type": "stream",
     "text": [
      "('Kangaroo', '', '')\n"
     ]
    }
   ],
   "source": [
    "y = 'Kangaroo'\n",
    "z = y.partition('c')\n",
    "\n",
    "print(z)"
   ]
  },
  {
   "cell_type": "code",
   "execution_count": 44,
   "id": "6b98cd9b",
   "metadata": {},
   "outputs": [
    {
     "name": "stdout",
     "output_type": "stream",
     "text": [
      "Kangaroo\n"
     ]
    }
   ],
   "source": [
    "y = 'Kangaroo'\n",
    "\n",
    "z = y.partition('c')[0] + y.partition('c')[1] + y.partition('c')[2]\n",
    "\n",
    "print(z)"
   ]
  },
  {
   "cell_type": "markdown",
   "id": "2ec1ca82",
   "metadata": {},
   "source": [
    "### rpartition()"
   ]
  },
  {
   "cell_type": "markdown",
   "id": "47053056",
   "metadata": {},
   "source": [
    "* The rpartition() method searches for the last occurrence of a specified string, and splits the string into a tuple containing three elements.\n",
    "\n",
    "    * The first element contains the part before the specified string.\n",
    "\n",
    "    * The second element contains the specified string.\n",
    "\n",
    "    * The third element contains the part after the string."
   ]
  },
  {
   "cell_type": "markdown",
   "id": "67ab8767",
   "metadata": {},
   "source": [
    "* Syntax : \n",
    "    * string.rpartition(separator)\n",
    "\n",
    "* Parameters :  \n",
    "\n",
    "    * separator –  separates the string at the first occurrence of it.\n",
    "* Return Value : \n",
    "    * It returns the part the string before the separator, separator parameter itself, and the part after the separator if the separator parameter is found in the string.\n",
    "    * It returns two empty strings, followed by the given string if the separator is not found in the string\n",
    "\n"
   ]
  },
  {
   "cell_type": "code",
   "execution_count": 45,
   "id": "98943c68",
   "metadata": {},
   "outputs": [
    {
     "name": "stdout",
     "output_type": "stream",
     "text": [
      "Help on method_descriptor:\n",
      "\n",
      "rpartition(self, sep, /)\n",
      "    Partition the string into three parts using the given separator.\n",
      "    \n",
      "    This will search for the separator in the string, starting at the end. If\n",
      "    the separator is found, returns a 3-tuple containing the part before the\n",
      "    separator, the separator itself, and the part after it.\n",
      "    \n",
      "    If the separator is not found, returns a 3-tuple containing two empty strings\n",
      "    and the original string.\n",
      "\n"
     ]
    }
   ],
   "source": [
    "help(str.rpartition)"
   ]
  },
  {
   "cell_type": "code",
   "execution_count": 46,
   "id": "553da915",
   "metadata": {},
   "outputs": [],
   "source": [
    "x = '''Betty Botter bought some butter\n",
    "But she said the butter’s bitter\n",
    "If I put it in my batter, it will make my batter bitter\n",
    "But a bit of better butter will make my batter better\n",
    "So ‘twas better Betty Botter bought a bit of better butter'''"
   ]
  },
  {
   "cell_type": "code",
   "execution_count": 47,
   "id": "7672c279",
   "metadata": {},
   "outputs": [
    {
     "name": "stdout",
     "output_type": "stream",
     "text": [
      "('Betty Botter bought some butter\\nBut she said the butter’s bitter\\nIf I put it in my batter, it will make my batter bitter\\nBut a bit of better butter will make my batter better\\nSo ‘twas better Betty Botter bought a bit of better', ' ', 'butter')\n"
     ]
    }
   ],
   "source": [
    "print(x.rpartition(' '))"
   ]
  },
  {
   "cell_type": "code",
   "execution_count": 48,
   "id": "ff9f8270",
   "metadata": {},
   "outputs": [
    {
     "name": "stdout",
     "output_type": "stream",
     "text": [
      "('what is your name', ' ', '?')\n"
     ]
    }
   ],
   "source": [
    "a = 'what is your name ?'.rpartition(' ')\n",
    "\n",
    "print(a)"
   ]
  },
  {
   "cell_type": "code",
   "execution_count": 49,
   "id": "b19335ec",
   "metadata": {},
   "outputs": [
    {
     "name": "stdout",
     "output_type": "stream",
     "text": [
      "('', '', 'Kangaroo')\n"
     ]
    }
   ],
   "source": [
    "y = 'Kangaroo'.rpartition(' ')\n",
    "\n",
    "print(y)"
   ]
  },
  {
   "cell_type": "code",
   "execution_count": 50,
   "id": "7fb4e097",
   "metadata": {},
   "outputs": [
    {
     "name": "stdout",
     "output_type": "stream",
     "text": [
      "('', '', 'Kangaroo')\n"
     ]
    }
   ],
   "source": [
    "y = 'Kangaroo'\n",
    "z = y.rpartition('c')\n",
    "\n",
    "print(z)"
   ]
  },
  {
   "cell_type": "code",
   "execution_count": 51,
   "id": "22e20b00",
   "metadata": {},
   "outputs": [
    {
     "name": "stdout",
     "output_type": "stream",
     "text": [
      "('Kang', 'a', 'roo')\n"
     ]
    }
   ],
   "source": [
    "y = 'Kangaroo'.rpartition('a')\n",
    "\n",
    "print(y)"
   ]
  },
  {
   "cell_type": "markdown",
   "id": "2ea01d5f",
   "metadata": {},
   "source": [
    "### splitlines()"
   ]
  },
  {
   "cell_type": "markdown",
   "id": "c296c9b8",
   "metadata": {},
   "source": [
    "* The splitlines() method splits a string into a list. The splitting is done at line breaks."
   ]
  },
  {
   "cell_type": "markdown",
   "id": "30db4e01",
   "metadata": {},
   "source": [
    "* Syntax: \n",
    "\n",
    "    * string.splitlines(keepends)\n",
    "\n",
    "* Parameters:\n",
    "\n",
    "    * keepends (optional): When set to True line breaks are included in the resulting list. This can be a number, specifying the position of line break or, can be any Unicode characters, like “\\n”, “\\r”, “\\r\\n”, etc as boundaries for strings.\n",
    "\n",
    "* Return Value: \n",
    "\n",
    "    * Returns a list of the lines in the string, breaking at line boundaries"
   ]
  },
  {
   "cell_type": "code",
   "execution_count": 52,
   "id": "6a540113",
   "metadata": {},
   "outputs": [
    {
     "name": "stdout",
     "output_type": "stream",
     "text": [
      "Help on method_descriptor:\n",
      "\n",
      "splitlines(self, /, keepends=False)\n",
      "    Return a list of the lines in the string, breaking at line boundaries.\n",
      "    \n",
      "    Line breaks are not included in the resulting list unless keepends is given and\n",
      "    true.\n",
      "\n"
     ]
    }
   ],
   "source": [
    "help(str.splitlines)"
   ]
  },
  {
   "cell_type": "code",
   "execution_count": 53,
   "id": "5995e921",
   "metadata": {},
   "outputs": [],
   "source": [
    "x = '''Betty Botter bought some butter\n",
    "But she said the butter’s bitter\n",
    "If I put it in my batter, it will make my batter bitter\n",
    "But a bit of better butter will make my batter better\n",
    "So ‘twas better Betty Botter bought a bit of better butter'''"
   ]
  },
  {
   "cell_type": "code",
   "execution_count": 54,
   "id": "520f3463",
   "metadata": {},
   "outputs": [
    {
     "name": "stdout",
     "output_type": "stream",
     "text": [
      "Betty Botter bought some butter\n",
      "But she said the butter’s bitter\n",
      "If I put it in my batter, it will make my batter bitter\n",
      "But a bit of better butter will make my batter better\n",
      "So ‘twas better Betty Botter bought a bit of better butter\n"
     ]
    }
   ],
   "source": [
    "print(x)"
   ]
  },
  {
   "cell_type": "code",
   "execution_count": 55,
   "id": "7b2a8d86",
   "metadata": {},
   "outputs": [
    {
     "name": "stdout",
     "output_type": "stream",
     "text": [
      "['Betty Botter bought some butter', 'But she said the butter’s bitter', 'If I put it in my batter, it will make my batter bitter', 'But a bit of better butter will make my batter better', 'So ‘twas better Betty Botter bought a bit of better butter']\n"
     ]
    }
   ],
   "source": [
    "print(x.splitlines())"
   ]
  },
  {
   "cell_type": "code",
   "execution_count": 56,
   "id": "e25c5c7a",
   "metadata": {},
   "outputs": [
    {
     "name": "stdout",
     "output_type": "stream",
     "text": [
      "what is your name ?\n",
      "['what is your name ?']\n"
     ]
    }
   ],
   "source": [
    "a = 'what is your name ?'\n",
    "\n",
    "print(a)\n",
    "print(a.splitlines())"
   ]
  },
  {
   "cell_type": "code",
   "execution_count": null,
   "id": "6086e58f",
   "metadata": {},
   "outputs": [],
   "source": []
  }
 ],
 "metadata": {
  "kernelspec": {
   "display_name": "Python 3 (ipykernel)",
   "language": "python",
   "name": "python3"
  },
  "language_info": {
   "codemirror_mode": {
    "name": "ipython",
    "version": 3
   },
   "file_extension": ".py",
   "mimetype": "text/x-python",
   "name": "python",
   "nbconvert_exporter": "python",
   "pygments_lexer": "ipython3",
   "version": "3.11.5"
  }
 },
 "nbformat": 4,
 "nbformat_minor": 5
}
